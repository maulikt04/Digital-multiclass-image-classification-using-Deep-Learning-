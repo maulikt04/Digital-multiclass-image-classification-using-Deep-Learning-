{
  "nbformat": 4,
  "nbformat_minor": 0,
  "metadata": {
    "colab": {
      "provenance": []
    },
    "kernelspec": {
      "name": "python3",
      "display_name": "Python 3"
    },
    "language_info": {
      "name": "python"
    }
  },
  "cells": [
    {
      "cell_type": "markdown",
      "source": [
        "Import All Required Libraries"
      ],
      "metadata": {
        "id": "ylQ-m3bZ8I-c"
      }
    },
    {
      "cell_type": "code",
      "execution_count": null,
      "metadata": {
        "id": "y_hOiWNEn0kM"
      },
      "outputs": [],
      "source": [
        "import cv2   # it will allow us to load our images into the script\n",
        "import numpy as np   # used for reformatting our own images\n",
        "import tensorflow as tf   # main library used to load data sets, build neural networks, train them, etc.\n",
        "import matplotlib.pyplot as plt   # used for visualization"
      ]
    },
    {
      "cell_type": "code",
      "source": [
        "import tensorflow\n",
        "from tensorflow import keras\n",
        "from tensorflow.keras import Sequential\n",
        "from tensorflow.keras.layers import Dense,Flatten"
      ],
      "metadata": {
        "id": "SArvqg50n_iH"
      },
      "execution_count": null,
      "outputs": []
    },
    {
      "cell_type": "markdown",
      "source": [
        "Dataset load from Keras and data preparation"
      ],
      "metadata": {
        "id": "pAZxoT_S8VQS"
      }
    },
    {
      "cell_type": "code",
      "source": [
        "(X_train,y_train),(X_test,y_test) = keras.datasets.mnist.load_data()"
      ],
      "metadata": {
        "id": "OYIiTeE1qxnp"
      },
      "execution_count": null,
      "outputs": []
    },
    {
      "cell_type": "code",
      "source": [
        "import matplotlib.pyplot as plt\n",
        "plt.imshow(X_train[23])"
      ],
      "metadata": {
        "colab": {
          "base_uri": "https://localhost:8080/",
          "height": 447
        },
        "id": "rzsHP29mq1eF",
        "outputId": "b0bf77db-0963-4d86-98f2-20b7693609c9"
      },
      "execution_count": null,
      "outputs": [
        {
          "output_type": "execute_result",
          "data": {
            "text/plain": [
              "<matplotlib.image.AxesImage at 0x7b40fb50e5c0>"
            ]
          },
          "metadata": {},
          "execution_count": 24
        },
        {
          "output_type": "display_data",
          "data": {
            "text/plain": [
              "<Figure size 640x480 with 1 Axes>"
            ],
            "image/png": "[encoded data removed]"
          },
          "metadata": {}
        }
      ]
    },
    {
      "cell_type": "code",
      "source": [
        "# to convert all value in between 0-1 we require to divide it 255\n",
        "X_train = X_train/255\n",
        "X_test = X_test/255"
      ],
      "metadata": {
        "id": "2u3PL7wHq6Zq"
      },
      "execution_count": null,
      "outputs": []
    },
    {
      "cell_type": "markdown",
      "source": [
        "Build up the Keras Sequential Model"
      ],
      "metadata": {
        "id": "2Zid_B0k8eLS"
      }
    },
    {
      "cell_type": "code",
      "source": [
        "#Flattaning layer operation will be require to give 784 pixel values as input\n",
        "model = Sequential()\n",
        "\n",
        "model.add(Flatten(input_shape=(28,28))) #It will convert data into 1D --784inputs\n",
        "model.add(Dense(128,activation=\"relu\"))#no need to give inputs flatten layer will automatically gives  #here 128nodes for input layer\n",
        "model.add(Dense(32,activation=\"relu\"))\n",
        "model.add(Dense(10,activation=\"softmax\"))  #softmax bz we are having more than one nodes in output"
      ],
      "metadata": {
        "id": "EH2pLJSNrBL5"
      },
      "execution_count": null,
      "outputs": []
    },
    {
      "cell_type": "code",
      "source": [
        "model.summary()"
      ],
      "metadata": {
        "colab": {
          "base_uri": "https://localhost:8080/"
        },
        "id": "zffVsdWPrGbb",
        "outputId": "88f30c9f-0d3b-47d7-d8f3-5552c234205e"
      },
      "execution_count": null,
      "outputs": [
        {
          "output_type": "stream",
          "name": "stdout",
          "text": [
            "Model: \"sequential_1\"\n",
            "_________________________________________________________________\n",
            " Layer (type)                Output Shape              Param #   \n",
            "=================================================================\n",
            " flatten_1 (Flatten)         (None, 784)               0         \n",
            "                                                                 \n",
            " dense_3 (Dense)             (None, 128)               100480    \n",
            "                                                                 \n",
            " dense_4 (Dense)             (None, 32)                4128      \n",
            "                                                                 \n",
            " dense_5 (Dense)             (None, 10)                330       \n",
            "                                                                 \n",
            "=================================================================\n",
            "Total params: 104,938\n",
            "Trainable params: 104,938\n",
            "Non-trainable params: 0\n",
            "_________________________________________________________________\n"
          ]
        }
      ]
    },
    {
      "cell_type": "code",
      "source": [
        "model.compile(loss=\"sparse_categorical_crossentropy\",optimizer=\"Adam\",metrics=[\"accuracy\"])\n",
        "#in sparse categorical crossentropy we dont need to do one hot encoding"
      ],
      "metadata": {
        "id": "2W9h424hrMMf"
      },
      "execution_count": null,
      "outputs": []
    },
    {
      "cell_type": "code",
      "source": [
        "history= model.fit(X_train,y_train,epochs=25,validation_split=0.2)"
      ],
      "metadata": {
        "colab": {
          "base_uri": "https://localhost:8080/"
        },
        "id": "ZXzO4XIOrQwB",
        "outputId": "1a280c7f-e132-44b9-b365-478bd4eb1101"
      },
      "execution_count": null,
      "outputs": [
        {
          "output_type": "stream",
          "name": "stdout",
          "text": [
            "Epoch 1/25\n",
            "1500/1500 [==============================] - 18s 11ms/step - loss: 0.2860 - accuracy: 0.9175 - val_loss: 0.1450 - val_accuracy: 0.9575\n",
            "Epoch 2/25\n",
            "1500/1500 [==============================] - 20s 13ms/step - loss: 0.1170 - accuracy: 0.9641 - val_loss: 0.1112 - val_accuracy: 0.9657\n",
            "Epoch 3/25\n",
            "1500/1500 [==============================] - 16s 10ms/step - loss: 0.0801 - accuracy: 0.9751 - val_loss: 0.0941 - val_accuracy: 0.9718\n",
            "Epoch 4/25\n",
            "1500/1500 [==============================] - 11s 7ms/step - loss: 0.0600 - accuracy: 0.9820 - val_loss: 0.0899 - val_accuracy: 0.9740\n",
            "Epoch 5/25\n",
            "1500/1500 [==============================] - 7s 5ms/step - loss: 0.0468 - accuracy: 0.9849 - val_loss: 0.0906 - val_accuracy: 0.9742\n",
            "Epoch 6/25\n",
            "1500/1500 [==============================] - 8s 5ms/step - loss: 0.0380 - accuracy: 0.9881 - val_loss: 0.0927 - val_accuracy: 0.9755\n",
            "Epoch 7/25\n",
            "1500/1500 [==============================] - 8s 6ms/step - loss: 0.0317 - accuracy: 0.9896 - val_loss: 0.1151 - val_accuracy: 0.9715\n",
            "Epoch 8/25\n",
            "1500/1500 [==============================] - 7s 5ms/step - loss: 0.0247 - accuracy: 0.9922 - val_loss: 0.1111 - val_accuracy: 0.9711\n",
            "Epoch 9/25\n",
            "1500/1500 [==============================] - 8s 5ms/step - loss: 0.0221 - accuracy: 0.9929 - val_loss: 0.1125 - val_accuracy: 0.9732\n",
            "Epoch 10/25\n",
            "1500/1500 [==============================] - 7s 4ms/step - loss: 0.0182 - accuracy: 0.9943 - val_loss: 0.1056 - val_accuracy: 0.9748\n",
            "Epoch 11/25\n",
            "1500/1500 [==============================] - 8s 6ms/step - loss: 0.0166 - accuracy: 0.9949 - val_loss: 0.1054 - val_accuracy: 0.9758\n",
            "Epoch 12/25\n",
            "1500/1500 [==============================] - 8s 6ms/step - loss: 0.0164 - accuracy: 0.9944 - val_loss: 0.1180 - val_accuracy: 0.9756\n",
            "Epoch 13/25\n",
            "1500/1500 [==============================] - 7s 4ms/step - loss: 0.0133 - accuracy: 0.9957 - val_loss: 0.1196 - val_accuracy: 0.9757\n",
            "Epoch 14/25\n",
            "1500/1500 [==============================] - 8s 5ms/step - loss: 0.0096 - accuracy: 0.9967 - val_loss: 0.1315 - val_accuracy: 0.9751\n",
            "Epoch 15/25\n",
            "1500/1500 [==============================] - 6s 4ms/step - loss: 0.0132 - accuracy: 0.9954 - val_loss: 0.1211 - val_accuracy: 0.9747\n",
            "Epoch 16/25\n",
            "1500/1500 [==============================] - 13s 9ms/step - loss: 0.0117 - accuracy: 0.9960 - val_loss: 0.1294 - val_accuracy: 0.9755\n",
            "Epoch 17/25\n",
            "1500/1500 [==============================] - 8s 5ms/step - loss: 0.0084 - accuracy: 0.9973 - val_loss: 0.1266 - val_accuracy: 0.9759\n",
            "Epoch 18/25\n",
            "1500/1500 [==============================] - 7s 5ms/step - loss: 0.0124 - accuracy: 0.9959 - val_loss: 0.1578 - val_accuracy: 0.9728\n",
            "Epoch 19/25\n",
            "1500/1500 [==============================] - 8s 5ms/step - loss: 0.0085 - accuracy: 0.9971 - val_loss: 0.1411 - val_accuracy: 0.9749\n",
            "Epoch 20/25\n",
            "1500/1500 [==============================] - 8s 5ms/step - loss: 0.0080 - accuracy: 0.9974 - val_loss: 0.1501 - val_accuracy: 0.9744\n",
            "Epoch 21/25\n",
            "1500/1500 [==============================] - 8s 5ms/step - loss: 0.0110 - accuracy: 0.9965 - val_loss: 0.1442 - val_accuracy: 0.9764\n",
            "Epoch 22/25\n",
            "1500/1500 [==============================] - 8s 5ms/step - loss: 0.0072 - accuracy: 0.9977 - val_loss: 0.1611 - val_accuracy: 0.9756\n",
            "Epoch 23/25\n",
            "1500/1500 [==============================] - 7s 4ms/step - loss: 0.0093 - accuracy: 0.9971 - val_loss: 0.1598 - val_accuracy: 0.9743\n",
            "Epoch 24/25\n",
            "1500/1500 [==============================] - 10s 7ms/step - loss: 0.0058 - accuracy: 0.9979 - val_loss: 0.1742 - val_accuracy: 0.9743\n",
            "Epoch 25/25\n",
            "1500/1500 [==============================] - 8s 5ms/step - loss: 0.0089 - accuracy: 0.9970 - val_loss: 0.1543 - val_accuracy: 0.9770\n"
          ]
        }
      ]
    },
    {
      "cell_type": "code",
      "source": [
        "y_prob = model.predict(X_test)"
      ],
      "metadata": {
        "colab": {
          "base_uri": "https://localhost:8080/"
        },
        "id": "iT4opgjHrU0h",
        "outputId": "45bd1ec4-b058-446c-ed83-dada0048d3f6"
      },
      "execution_count": null,
      "outputs": [
        {
          "output_type": "stream",
          "name": "stdout",
          "text": [
            "313/313 [==============================] - 1s 4ms/step\n"
          ]
        }
      ]
    },
    {
      "cell_type": "code",
      "source": [
        "y_prob"
      ],
      "metadata": {
        "colab": {
          "base_uri": "https://localhost:8080/"
        },
        "id": "bnlJvY6OsOXg",
        "outputId": "4fb92ba4-f2fc-4802-bc60-b7bfbec46768"
      },
      "execution_count": null,
      "outputs": [
        {
          "output_type": "execute_result",
          "data": {
            "text/plain": [
              "array([[2.65717708e-15, 2.06850925e-10, 1.43759605e-11, ...,\n",
              "        9.99999940e-01, 5.52647283e-13, 1.29231641e-13],\n",
              "       [1.00748014e-18, 1.51657116e-12, 9.99999940e-01, ...,\n",
              "        3.51422332e-19, 1.31704227e-19, 1.21454001e-32],\n",
              "       [1.41024236e-16, 9.99996841e-01, 1.83550686e-09, ...,\n",
              "        3.04858054e-06, 3.08198729e-08, 3.40282004e-11],\n",
              "       ...,\n",
              "       [1.64785515e-28, 4.90023992e-20, 1.48496469e-27, ...,\n",
              "        1.29870880e-17, 2.44680785e-20, 4.67665864e-14],\n",
              "       [1.67816189e-32, 7.65135120e-21, 5.42316219e-27, ...,\n",
              "        3.87214466e-24, 2.47409023e-14, 1.17173057e-22],\n",
              "       [7.23713048e-23, 5.49730703e-29, 1.24426553e-27, ...,\n",
              "        1.61727656e-22, 1.01321650e-23, 4.40143410e-21]], dtype=float32)"
            ]
          },
          "metadata": {},
          "execution_count": 31
        }
      ]
    },
    {
      "cell_type": "code",
      "source": [
        "y_pred = y_prob.argmax(axis=1) #Taking only one higher probablity"
      ],
      "metadata": {
        "id": "qZ2GCKWMsRR8"
      },
      "execution_count": null,
      "outputs": []
    },
    {
      "cell_type": "code",
      "source": [
        "y_pred"
      ],
      "metadata": {
        "colab": {
          "base_uri": "https://localhost:8080/"
        },
        "id": "VcPjZBs_sUHD",
        "outputId": "cb5012d4-64bd-4a1b-c2b2-beb823b6c77f"
      },
      "execution_count": null,
      "outputs": [
        {
          "output_type": "execute_result",
          "data": {
            "text/plain": [
              "array([7, 2, 1, ..., 4, 5, 6])"
            ]
          },
          "metadata": {},
          "execution_count": 33
        }
      ]
    },
    {
      "cell_type": "code",
      "source": [
        "from sklearn.metrics import accuracy_score\n",
        "accuracy_score(y_test,y_pred)"
      ],
      "metadata": {
        "colab": {
          "base_uri": "https://localhost:8080/"
        },
        "id": "bukwM6oLsXJA",
        "outputId": "284d62bf-d6c6-4c6c-eb88-59506e7d3de8"
      },
      "execution_count": null,
      "outputs": [
        {
          "output_type": "execute_result",
          "data": {
            "text/plain": [
              "0.9783"
            ]
          },
          "metadata": {},
          "execution_count": 34
        }
      ]
    },
    {
      "cell_type": "markdown",
      "source": [
        "Graphical Representation of loss, Validation loss, accuracy and Validation accuracy"
      ],
      "metadata": {
        "id": "uyvWmzC18naj"
      }
    },
    {
      "cell_type": "code",
      "source": [
        "import matplotlib.pyplot as plt"
      ],
      "metadata": {
        "id": "NFwQrOsMsZoP"
      },
      "execution_count": null,
      "outputs": []
    },
    {
      "cell_type": "code",
      "source": [
        "plt.plot(history.history[\"loss\"])\n",
        "plt.plot(history.history[\"val_loss\"])"
      ],
      "metadata": {
        "colab": {
          "base_uri": "https://localhost:8080/",
          "height": 447
        },
        "id": "E01Y9KVXsgmm",
        "outputId": "4ebc9289-892e-49e5-cef6-f43d718a6932"
      },
      "execution_count": null,
      "outputs": [
        {
          "output_type": "execute_result",
          "data": {
            "text/plain": [
              "[<matplotlib.lines.Line2D at 0x7b40fda25b10>]"
            ]
          },
          "metadata": {},
          "execution_count": 36
        },
        {
          "output_type": "display_data",
          "data": {
            "text/plain": [
              "<Figure size 640x480 with 1 Axes>"
            ],
            "image/png": "[encoded data removed]"
          },
          "metadata": {}
        }
      ]
    },
    {
      "cell_type": "code",
      "source": [
        "plt.plot(history.history[\"accuracy\"])\n",
        "plt.plot(history.history[\"val_accuracy\"])"
      ],
      "metadata": {
        "colab": {
          "base_uri": "https://localhost:8080/",
          "height": 447
        },
        "id": "9B3CGN-psjLE",
        "outputId": "f1121e99-e0b6-4329-f7d8-799ba2ced582"
      },
      "execution_count": null,
      "outputs": [
        {
          "output_type": "execute_result",
          "data": {
            "text/plain": [
              "[<matplotlib.lines.Line2D at 0x7b40fd93d180>]"
            ]
          },
          "metadata": {},
          "execution_count": 37
        },
        {
          "output_type": "display_data",
          "data": {
            "text/plain": [
              "<Figure size 640x480 with 1 Axes>"
            ],
            "image/png": "[encoded data removed]"
          },
          "metadata": {}
        }
      ]
    },
    {
      "cell_type": "markdown",
      "source": [
        "Testing"
      ],
      "metadata": {
        "id": "ZwihSO8a88p7"
      }
    },
    {
      "cell_type": "code",
      "source": [
        "plt.imshow(X_test[0])"
      ],
      "metadata": {
        "colab": {
          "base_uri": "https://localhost:8080/"
        },
        "id": "cnzQ_mbrsmUd",
        "outputId": "5089a288-cccd-46e4-c5f1-14d46f280a10"
      },
      "execution_count": null,
      "outputs": [
        {
          "output_type": "execute_result",
          "data": {
            "text/plain": [
              "<function matplotlib.pyplot.imshow(X, cmap=None, norm=None, *, aspect=None, interpolation=None, alpha=None, vmin=None, vmax=None, origin=None, extent=None, interpolation_stage=None, filternorm=True, filterrad=4.0, resample=None, url=None, data=None, **kwargs)>"
            ]
          },
          "metadata": {},
          "execution_count": 38
        }
      ]
    },
    {
      "cell_type": "code",
      "source": [
        "model.predict(X_test[0].reshape(1,28,28))"
      ],
      "metadata": {
        "colab": {
          "base_uri": "https://localhost:8080/"
        },
        "id": "Vg8ua66u6kwl",
        "outputId": "e15b4c6e-27a5-434a-c459-172c2ea9437a"
      },
      "execution_count": null,
      "outputs": [
        {
          "output_type": "stream",
          "name": "stdout",
          "text": [
            "1/1 [==============================] - 0s 42ms/step\n"
          ]
        },
        {
          "output_type": "execute_result",
          "data": {
            "text/plain": [
              "array([[2.6571773e-15, 2.0685094e-10, 1.4375989e-11, 2.5382935e-11,\n",
              "        8.8602845e-24, 3.0177300e-20, 3.7631421e-19, 1.0000000e+00,\n",
              "        5.5264528e-13, 1.2923141e-13]], dtype=float32)"
            ]
          },
          "metadata": {},
          "execution_count": 40
        }
      ]
    },
    {
      "cell_type": "code",
      "source": [
        "model.predict(X_test[0].reshape(1,28,28)).argmax(axis=1)"
      ],
      "metadata": {
        "colab": {
          "base_uri": "https://localhost:8080/"
        },
        "id": "qpwzdj347y3H",
        "outputId": "5b446c69-2f37-4584-8d90-b9625c5eb025"
      },
      "execution_count": null,
      "outputs": [
        {
          "output_type": "stream",
          "name": "stdout",
          "text": [
            "1/1 [==============================] - 0s 37ms/step\n"
          ]
        },
        {
          "output_type": "execute_result",
          "data": {
            "text/plain": [
              "array([7])"
            ]
          },
          "metadata": {},
          "execution_count": 41
        }
      ]
    },
    {
      "cell_type": "markdown",
      "source": [
        "This prediction consists of the ten activations or probabilities from the output neurons.\n",
        "Since we need to generate a result out of that, we are going to use the argmax function. This function returns the index of the highest value.\n",
        "In this case this is equivalent to the digit with the highest probability or activation."
      ],
      "metadata": {
        "id": "aij4y-DY9UOS"
      }
    },
    {
      "cell_type": "code",
      "source": [],
      "metadata": {
        "id": "0-1_bzli8A1_"
      },
      "execution_count": null,
      "outputs": []
    }
  ]
}